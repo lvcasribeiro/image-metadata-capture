{
  "cells": [
    {
      "cell_type": "markdown",
      "metadata": {
        "id": "YWXfeh2AgJgN"
      },
      "source": [
        "#### **Libraries imports:**"
      ]
    },
    {
      "cell_type": "markdown",
      "metadata": {
        "id": "cXip5S4JgNz_"
      },
      "source": [
        "##### **Package installation:**"
      ]
    },
    {
      "cell_type": "code",
      "execution_count": null,
      "metadata": {
        "id": "pMDcFwHmf4vZ"
      },
      "outputs": [],
      "source": [
        "# Pillow:\n",
        "!pip3 install Pillow\n",
        "\n",
        "# Exif:\n",
        "!pip3 install exif"
      ]
    },
    {
      "cell_type": "markdown",
      "metadata": {
        "id": "Th-zeljhgOoE"
      },
      "source": [
        "##### **Imports:**"
      ]
    },
    {
      "cell_type": "code",
      "execution_count": null,
      "metadata": {
        "id": "ijlMigrugPDS"
      },
      "outputs": [],
      "source": [
        "# Libraries imports:\n",
        "import shutil as pysh\n",
        "import pandas as pypd\n",
        "import PIL\n",
        "import os\n",
        "\n",
        "from exif import Image\n",
        "from PIL.ExifTags import TAGS\n",
        "\n",
        "print('- All libraries were imported.');"
      ]
    },
    {
      "cell_type": "markdown",
      "metadata": {
        "id": "4AhITGuSiLEg"
      },
      "source": [
        "#### **Setting up images:**"
      ]
    },
    {
      "cell_type": "markdown",
      "metadata": {
        "id": "h79aPFIwiAvN"
      },
      "source": [
        "##### **Creating the dataset directory:**"
      ]
    },
    {
      "cell_type": "code",
      "execution_count": null,
      "metadata": {
        "id": "T1v-BfJMhb-B"
      },
      "outputs": [],
      "source": [
        "# Directory measurement variable:\n",
        "dataset_existente = os.path.exists(r'/content/dataset');\n",
        "\n",
        "# Creation of the 'dataset' directory, if it does not exist:\n",
        "if not dataset_existente:\n",
        "    os.system('mkdir dataset');\n",
        "    print('- Dataset folder created. Populate it with images!');\n",
        "else:\n",
        "    # Dataset directory benchmarking:\n",
        "    dataset_diretorio = os.listdir(r'/content/dataset');\n",
        "\n",
        "    if len(dataset_diretorio) == 0:\n",
        "        print('- Dataset folder already exists, necessary to populate the dataset directory with images.');\n",
        "    else:\n",
        "        print('- Dataset folder already exists.');"
      ]
    },
    {
      "cell_type": "markdown",
      "metadata": {
        "id": "JXAHIZQlh8x9"
      },
      "source": [
        "##### **Unzip of drive files:**"
      ]
    },
    {
      "cell_type": "code",
      "execution_count": null,
      "metadata": {
        "id": "6lpaxWtAhJOI"
      },
      "outputs": [],
      "source": [
        "# Parameters: .zip path, where to send it and format:\n",
        "pysh.unpack_archive(r'/content/drive/MyDrive/apicultura-darknet-cnn/dataset-apicultura.zip', '/content/dataset', 'zip');\n",
        "\n",
        "# Move files:\n",
        "diretorio_original = r'/content/dataset/dataset-apicultura//';\n",
        "diretorio_final = r'/content/dataset//';\n",
        "\n",
        "for arquivo in os.listdir(r'/content/dataset/dataset-apicultura'):\n",
        "    origem = diretorio_original + arquivo;\n",
        "    destino = diretorio_final + arquivo;\n",
        "    pysh.move(origem, destino);\n",
        "\n",
        "# Remove original folder:\n",
        "os.system('rm -rf /content/dataset/dataset-apicultura');\n",
        "\n",
        "print('- Sucessfully unziped.');"
      ]
    },
    {
      "cell_type": "markdown",
      "metadata": {
        "id": "OZDvnAZdg0sI"
      },
      "source": [
        "#### **Reading images:**"
      ]
    },
    {
      "cell_type": "markdown",
      "metadata": {
        "id": "r7wwNABiuyy7"
      },
      "source": [
        "##### **Creating the dataset list:**"
      ]
    },
    {
      "cell_type": "code",
      "execution_count": null,
      "metadata": {
        "id": "7PeGhN87tx1j"
      },
      "outputs": [],
      "source": [
        "# Reading each image [in array format] manually:\n",
        "dataset_directory = '/content/dataset';\n",
        "dataset_array = [];\n",
        "\n",
        "dataset = os.listdir(dataset_directory);\n",
        "\n",
        "for aux in range(len(dataset)):\n",
        "    # Captures only files with .jpg or .png extensions and increments them in the dataset_array list:\n",
        "    if (dataset[aux].split('.')[1] == 'JPG' or dataset[aux].split('.')[1] == 'jpg' or dataset[aux].split('.')[1] == 'PNG' or dataset[aux].split('.')[1] == 'png'):\n",
        "        dataset_array.append(dataset[aux]);\n",
        "\n",
        "print('- Dataset list created.');"
      ]
    },
    {
      "cell_type": "markdown",
      "metadata": {
        "id": "RYAaiJQAu4S5"
      },
      "source": [
        "##### **Checking images:**"
      ]
    },
    {
      "cell_type": "code",
      "execution_count": null,
      "metadata": {
        "id": "gglV9nvZtywj"
      },
      "outputs": [],
      "source": [
        "# Checking the amount of images obtained:\n",
        "print(f'- {len(dataset_array)} images were read.');"
      ]
    },
    {
      "cell_type": "markdown",
      "metadata": {
        "id": "bFacZlxR2ZKr"
      },
      "source": [
        "##### **Testing with one example image:**"
      ]
    },
    {
      "cell_type": "code",
      "execution_count": null,
      "metadata": {
        "id": "tIQnRJSjg1Ig"
      },
      "outputs": [],
      "source": [
        "# Test:\n",
        "image_path = '/content/dataset/F0010121.JPG';\n",
        "\n",
        "with open(image_path, 'rb') as source:\n",
        "    image = Image(source);\n",
        "\n",
        "    print(f'- Source name: {source.name}');"
      ]
    },
    {
      "cell_type": "markdown",
      "metadata": {
        "id": "dDqGSWhq251K"
      },
      "source": [
        "##### **Checking image exif:**"
      ]
    },
    {
      "cell_type": "code",
      "execution_count": null,
      "metadata": {
        "id": "z42OLLcolBru"
      },
      "outputs": [],
      "source": [
        "# Checking if exif exists:\n",
        "image = Image(image_path);\n",
        "\n",
        "if image.has_exif:\n",
        "    info = f'has the EXIF version {image.exif_version}';\n",
        "else:\n",
        "    info = 'does not contain any EXIF information.';\n",
        "print(f'- Image {source.name} {info}.');"
      ]
    },
    {
      "cell_type": "markdown",
      "source": [
        "##### **Exif image attributes:**"
      ],
      "metadata": {
        "id": "HAKRBs3r8HOw"
      }
    },
    {
      "cell_type": "code",
      "execution_count": null,
      "metadata": {
        "id": "Rr_ime07mIDC"
      },
      "outputs": [],
      "source": [
        "# Exif attributes:\n",
        "with open(image_path, 'rb') as source:\n",
        "    img = Image(source);\n",
        "\n",
        "print(f'- Exif attributes: {img.list_all()}');"
      ]
    },
    {
      "cell_type": "markdown",
      "source": [
        "##### **Image longitude:**"
      ],
      "metadata": {
        "id": "Yy0jxl7l8MgI"
      }
    },
    {
      "cell_type": "code",
      "execution_count": null,
      "metadata": {
        "id": "rnmqM-mPmPlc"
      },
      "outputs": [],
      "source": [
        "print(f'- Longitude: {img.gps_longitude}');"
      ]
    },
    {
      "cell_type": "code",
      "execution_count": null,
      "metadata": {
        "id": "qm0scsD5mQ5_"
      },
      "outputs": [],
      "source": [
        "print(f'- Longitude reference: {img.gps_longitude_ref}.');"
      ]
    },
    {
      "cell_type": "markdown",
      "source": [
        "##### **DMS (degrees, minutes, secondss) coordinates to DD (decimal degrees) coordinates:**"
      ],
      "metadata": {
        "id": "0ki4K1Fs8pLe"
      }
    },
    {
      "cell_type": "code",
      "execution_count": null,
      "metadata": {
        "id": "Ut_x1CvNmhxz"
      },
      "outputs": [],
      "source": [
        "def decimal_coords(coords, ref):\n",
        "    decimal_degrees = coords[0] + coords[1]/60 + coords[2]/3600;\n",
        "\n",
        "    if ref == 'S' or ref == 'W':\n",
        "        decimal_degrees = -decimal_degrees;\n",
        "        \n",
        "    return decimal_degrees"
      ]
    },
    {
      "cell_type": "markdown",
      "source": [
        "##### **Compiling coordinates and timestamp:**"
      ],
      "metadata": {
        "id": "9KOpDyMW86a8"
      }
    },
    {
      "cell_type": "code",
      "source": [
        "# Aux variables:\n",
        "image_time = [];\n",
        "image_date = [];\n",
        "image_latitude = [];\n",
        "image_longitude = [];\n",
        "path_to_image = [];\n",
        "    \n",
        "def image_coordinates(image_path):\n",
        "    # Reading image file:\n",
        "    with open(image_path, 'rb') as source:\n",
        "        image = Image(source);\n",
        "\n",
        "    if image.has_exif:\n",
        "        try:\n",
        "            image.gps_longitude;\n",
        "            coords = (decimal_coords(image.gps_latitude, image.gps_latitude_ref), decimal_coords(image.gps_longitude, image.gps_longitude_ref));\n",
        "\n",
        "            # Appending info:\n",
        "            image_time.append(image.datetime_original[11:19]);\n",
        "            image_date.append(image.datetime_original[:10]);\n",
        "            image_latitude.append(coords[0]);\n",
        "            image_longitude.append(coords[1]);\n",
        "            path_to_image.append(image_path[17:100]);\n",
        "\n",
        "        except AttributeError:\n",
        "            print('- No coordinates');\n",
        "    else:\n",
        "        print(f'- {image_path} has no EXIF information.');\n",
        "\n",
        "    print(f\"- {image_path} was taken at {image.datetime_original[11:19]} on {image.datetime_original[:10]}, and has latitude: {coords[0]} and longitude {coords[1]}\");"
      ],
      "metadata": {
        "id": "61sjaLkS86uS"
      },
      "execution_count": null,
      "outputs": []
    },
    {
      "cell_type": "markdown",
      "source": [
        "#### **Getting coordinates and timestamp for all images:**"
      ],
      "metadata": {
        "id": "XDMo0kQd-A_7"
      }
    },
    {
      "cell_type": "code",
      "source": [
        "for aux in range(len(dataset_array)):\n",
        "    path = f'/content/dataset/{dataset_array[aux]}';\n",
        "\n",
        "    print(f'{aux + 1} ', end = '');\n",
        "\n",
        "    image_coordinates(path);"
      ],
      "metadata": {
        "id": "OBw_ae6Y-Apj"
      },
      "execution_count": null,
      "outputs": []
    },
    {
      "cell_type": "markdown",
      "source": [
        "#### **Getting coordinates and timestamp for all images in a dataframe:**"
      ],
      "metadata": {
        "id": "9gQksyEiBghv"
      }
    },
    {
      "cell_type": "code",
      "source": [
        "# Calling dataframe constructor after zipping:\n",
        "images_info_dataframe = pypd.DataFrame(list(zip(path_to_image, image_time, image_date, image_latitude, image_longitude)), columns =['Image', 'Time', 'Date','Latitude', 'Longitude']);\n",
        "\n",
        "print(images_info_dataframe.head());"
      ],
      "metadata": {
        "id": "aakoJ-D2BfmM"
      },
      "execution_count": null,
      "outputs": []
    },
    {
      "cell_type": "code",
      "source": [
        "# Writing a .xlsl file:\n",
        "images_info_dataframe.to_excel('/content/images-info-lat-long.xlsx');"
      ],
      "metadata": {
        "id": "INxRwlnJGxk-"
      },
      "execution_count": null,
      "outputs": []
    }
  ],
  "metadata": {
    "colab": {
      "collapsed_sections": [
        "YWXfeh2AgJgN",
        "4AhITGuSiLEg",
        "OZDvnAZdg0sI",
        "XDMo0kQd-A_7",
        "9gQksyEiBghv"
      ],
      "provenance": []
    },
    "gpuClass": "standard",
    "kernelspec": {
      "display_name": "Python 3",
      "name": "python3"
    },
    "language_info": {
      "name": "python"
    }
  },
  "nbformat": 4,
  "nbformat_minor": 0
}